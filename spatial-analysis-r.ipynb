{
 "cells": [
  {
   "cell_type": "markdown",
   "metadata": {},
   "source": [
    "# SE3 SkillShare: Spatial Analysis in R\n",
    "### May 17, 2019\n",
    "\n",
    "### David J.X. Gonzalez, E-IPER PhD Candidate, djxgonz@stanford.edu\n"
   ]
  },
  {
   "cell_type": "markdown",
   "metadata": {},
   "source": [
    "This week we're going to talk about how to do spatial analysis in R, including doing common spatial [procedures] and . \n",
    "\n",
    "This lesson will cover:\n",
    "* The basics of geographic information systems (GIS)\n",
    "* Spatial analysis operations\n",
    "* Working with vector data with the 'sf' Package\n",
    "* How make maps using ggplot()\n",
    "\n",
    "At the end, we'll have time for questions\n",
    "\n",
    "We'll start by installing and loading the packages we need."
   ]
  },
  {
   "cell_type": "code",
   "execution_count": 3,
   "metadata": {
    "collapsed": true
   },
   "outputs": [
    {
     "name": "stderr",
     "output_type": "stream",
     "text": [
      "also installing the dependencies ‘e1071’, ‘classInt’, ‘units’\n",
      "\n",
      "Warning message in install.packages(\"sf\"):\n",
      "“installation of package ‘e1071’ had non-zero exit status”Warning message in install.packages(\"sf\"):\n",
      "“installation of package ‘units’ had non-zero exit status”Warning message in install.packages(\"sf\"):\n",
      "“installation of package ‘classInt’ had non-zero exit status”Warning message in install.packages(\"sf\"):\n",
      "“installation of package ‘sf’ had non-zero exit status”Updating HTML index of packages in '.Library'\n",
      "Making 'packages.html' ... done\n"
     ]
    },
    {
     "ename": "ERROR",
     "evalue": "Error in library(sf): there is no package called ‘sf’\n",
     "output_type": "error",
     "traceback": [
      "Error in library(sf): there is no package called ‘sf’\nTraceback:\n",
      "1. library(sf)",
      "2. stop(txt, domain = NA)"
     ]
    }
   ],
   "source": [
    "# setup\n",
    "\n",
    "    # installs packages\n",
    "    install.packages(\"sf\")  # spatial features\n",
    "    install.packages(\"tidyverse\")\n",
    "\n",
    "    # loads packages\n",
    "    library(sf)\n",
    "    library(tidyverse)"
   ]
  },
  {
   "cell_type": "code",
   "execution_count": null,
   "metadata": {},
   "outputs": [],
   "source": []
  },
  {
   "cell_type": "markdown",
   "metadata": {},
   "source": [
    "### Related Stanford classes\n",
    "\n",
    "\n",
    "### Online resources\n",
    "* [*Geocomputation with R*](https://bookdown.org/robinlovelace/geocompr/) (2019), by Robin Lovelace, Jakub Nowosad, and Jannes Muenchow - A free online book covering geographic data analysis, visualization and modeling.\n",
    "* [*Teaching and Learning with Jupyter*](https://jupyter4edu.github.io/jupyter-edu-book/index.html) (2019), by Lorena A. Barba et al. - A resource for making Jupyter notebooks like this one  \n"
   ]
  },
  {
   "cell_type": "code",
   "execution_count": null,
   "metadata": {},
   "outputs": [],
   "source": []
  },
  {
   "cell_type": "code",
   "execution_count": null,
   "metadata": {},
   "outputs": [],
   "source": []
  }
 ],
 "metadata": {
  "kernelspec": {
   "display_name": "R",
   "language": "R",
   "name": "ir"
  },
  "language_info": {
   "codemirror_mode": "r",
   "file_extension": ".r",
   "mimetype": "text/x-r-source",
   "name": "R",
   "pygments_lexer": "r",
   "version": "3.5.1"
  }
 },
 "nbformat": 4,
 "nbformat_minor": 2
}
